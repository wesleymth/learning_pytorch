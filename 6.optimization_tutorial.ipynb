{
  "cells": [
    {
      "cell_type": "code",
      "execution_count": 1,
      "metadata": {
        "collapsed": false
      },
      "outputs": [],
      "source": [
        "%matplotlib inline"
      ]
    },
    {
      "cell_type": "markdown",
      "metadata": {},
      "source": [
        "\n",
        "`Learn the Basics <intro.html>`_ ||\n",
        "`Quickstart <quickstart_tutorial.html>`_ ||\n",
        "`Tensors <tensorqs_tutorial.html>`_ ||\n",
        "`Datasets & DataLoaders <data_tutorial.html>`_ ||\n",
        "`Transforms <transforms_tutorial.html>`_ ||\n",
        "`Build Model <buildmodel_tutorial.html>`_ ||\n",
        "`Autograd <autogradqs_tutorial.html>`_ ||\n",
        "**Optimization** ||\n",
        "`Save & Load Model <saveloadrun_tutorial.html>`_\n",
        "\n",
        "Optimizing Model Parameters\n",
        "===========================\n",
        "\n",
        "Now that we have a model and data it's time to train, validate and test our model by optimizing its parameters on\n",
        "our data. Training a model is an iterative process; in each iteration (called an *epoch*) the model makes a guess about the output, calculates\n",
        "the error in its guess (*loss*), collects the derivatives of the error with respect to its parameters (as we saw in\n",
        "the `previous section  <autograd_tutorial.html>`_), and **optimizes** these parameters using gradient descent. For a more\n",
        "detailed walkthrough of this process, check out this video on `backpropagation from 3Blue1Brown <https://www.youtube.com/watch?v=tIeHLnjs5U8>`__.\n",
        "\n",
        "Prerequisite Code\n",
        "-----------------\n",
        "We load the code from the previous sections on `Datasets & DataLoaders <data_tutorial.html>`_\n",
        "and `Build Model  <buildmodel_tutorial.html>`_.\n"
      ]
    },
    {
      "cell_type": "code",
      "execution_count": 2,
      "metadata": {
        "collapsed": false
      },
      "outputs": [],
      "source": [
        "import torch\n",
        "from torch import nn\n",
        "from torch.utils.data import DataLoader\n",
        "from torchvision import datasets\n",
        "from torchvision.transforms import ToTensor, Lambda\n",
        "\n",
        "training_data = datasets.FashionMNIST(\n",
        "    root=\"data\",\n",
        "    train=True,\n",
        "    download=True,\n",
        "    transform=ToTensor()\n",
        ")\n",
        "\n",
        "test_data = datasets.FashionMNIST(\n",
        "    root=\"data\",\n",
        "    train=False,\n",
        "    download=True,\n",
        "    transform=ToTensor()\n",
        ")\n",
        "\n",
        "train_dataloader = DataLoader(training_data, batch_size=64)\n",
        "test_dataloader = DataLoader(test_data, batch_size=64)\n",
        "\n",
        "class NeuralNetwork(nn.Module):\n",
        "    def __init__(self):\n",
        "        super(NeuralNetwork, self).__init__()\n",
        "        self.flatten = nn.Flatten()\n",
        "        self.linear_relu_stack = nn.Sequential(\n",
        "            nn.Linear(28*28, 512),\n",
        "            nn.ReLU(),\n",
        "            nn.Linear(512, 512),\n",
        "            nn.ReLU(),\n",
        "            nn.Linear(512, 10),\n",
        "        )\n",
        "\n",
        "    def forward(self, x):\n",
        "        x = self.flatten(x)\n",
        "        logits = self.linear_relu_stack(x)\n",
        "        return logits\n",
        "\n",
        "model = NeuralNetwork()"
      ]
    },
    {
      "cell_type": "markdown",
      "metadata": {},
      "source": [
        "Hyperparameters\n",
        "-----------------\n",
        "\n",
        "Hyperparameters are adjustable parameters that let you control the model optimization process.\n",
        "Different hyperparameter values can impact model training and convergence rates\n",
        "(`read more <https://pytorch.org/tutorials/beginner/hyperparameter_tuning_tutorial.html>`__ about hyperparameter tuning)\n",
        "\n",
        "We define the following hyperparameters for training:\n",
        " - **Number of Epochs** - the number times to iterate over the dataset\n",
        " - **Batch Size** - the number of data samples propagated through the network before the parameters are updated\n",
        " - **Learning Rate** - how much to update models parameters at each batch/epoch. Smaller values yield slow learning speed, while large values may result in unpredictable behavior during training.\n",
        "\n",
        "\n"
      ]
    },
    {
      "cell_type": "code",
      "execution_count": 3,
      "metadata": {
        "collapsed": false
      },
      "outputs": [],
      "source": [
        "learning_rate = 1e-3\n",
        "batch_size = 64\n",
        "epochs = 5"
      ]
    },
    {
      "cell_type": "markdown",
      "metadata": {},
      "source": [
        "### Optimization Loop\n",
        "\n",
        "Once we set our hyperparameters, we can then train and optimize our model with an optimization loop. Each\n",
        "iteration of the optimization loop is called an **epoch**.\n",
        "\n",
        "Each epoch consists of two main parts:\n",
        " - **The Train Loop** - iterate over the training dataset and try to converge to optimal parameters.\n",
        " - **The Validation/Test Loop** - iterate over the test dataset to check if model performance is improving.\n",
        "\n",
        "Let's briefly familiarize ourselves with some of the concepts used in the training loop. Jump ahead to\n",
        "see the `full-impl-label` of the optimization loop.\n",
        "\n",
        "### Loss Function\n",
        "\n",
        "When presented with some training data, our untrained network is likely not to give the correct\n",
        "answer. **Loss function** measures the degree of dissimilarity of obtained result to the target value,\n",
        "and it is the loss function that we want to minimize during training. To calculate the loss we make a\n",
        "prediction using the inputs of our given data sample and compare it against the true data label value.\n",
        "\n",
        "Common loss functions include `nn.MSELoss <https://pytorch.org/docs/stable/generated/torch.nn.MSELoss.html#torch.nn.MSELoss>`_ (Mean Square Error) for regression tasks, and\n",
        "`nn.NLLLoss <https://pytorch.org/docs/stable/generated/torch.nn.NLLLoss.html#torch.nn.NLLLoss>`_ (Negative Log Likelihood) for classification.\n",
        "`nn.CrossEntropyLoss <https://pytorch.org/docs/stable/generated/torch.nn.CrossEntropyLoss.html#torch.nn.CrossEntropyLoss>`_ combines ``nn.LogSoftmax`` and ``nn.NLLLoss``.\n",
        "\n",
        "We pass our model's output logits to ``nn.CrossEntropyLoss``, which will normalize the logits and compute the prediction error.\n",
        "\n"
      ]
    },
    {
      "cell_type": "code",
      "execution_count": 4,
      "metadata": {
        "collapsed": false
      },
      "outputs": [],
      "source": [
        "# Initialize the loss function\n",
        "loss_fn = nn.CrossEntropyLoss()"
      ]
    },
    {
      "cell_type": "markdown",
      "metadata": {},
      "source": [
        "### Optimizer\n",
        "\n",
        "\n",
        "Optimization is the process of adjusting model parameters to reduce model error in each training step. **Optimization algorithms** define how this process is performed (in this example we use Stochastic Gradient Descent).\n",
        "All optimization logic is encapsulated in  the ``optimizer`` object. Here, we use the SGD optimizer; additionally, there are many `different optimizers <https://pytorch.org/docs/stable/optim.html>`_\n",
        "available in PyTorch such as ADAM and RMSProp, that work better for different kinds of models and data.\n",
        "\n",
        "We initialize the optimizer by registering the model's parameters that need to be trained, and passing in the learning rate hyperparameter.\n",
        "\n"
      ]
    },
    {
      "cell_type": "code",
      "execution_count": 5,
      "metadata": {
        "collapsed": false
      },
      "outputs": [],
      "source": [
        "optimizer = torch.optim.SGD(model.parameters(), lr=learning_rate)"
      ]
    },
    {
      "cell_type": "markdown",
      "metadata": {},
      "source": [
        "Inside the training loop, optimization happens in three steps:\n",
        " * Call ``optimizer.zero_grad()`` to reset the gradients of model parameters. Gradients by default add up; to prevent double-counting, we explicitly zero them at each iteration.\n",
        " * Backpropagate the prediction loss with a call to ``loss.backward()``. PyTorch deposits the gradients of the loss w.r.t. each parameter.\n",
        " * Once we have our gradients, we call ``optimizer.step()`` to adjust the parameters by the gradients collected in the backward pass.\n",
        "\n"
      ]
    },
    {
      "cell_type": "markdown",
      "metadata": {},
      "source": [
        "\n",
        "Full Implementation\n",
        "-----------------------\n",
        "We define ``train_loop`` that loops over our optimization code, and ``test_loop`` that\n",
        "evaluates the model's performance against our test data.\n",
        "\n"
      ]
    },
    {
      "cell_type": "code",
      "execution_count": 6,
      "metadata": {
        "collapsed": false
      },
      "outputs": [],
      "source": [
        "def train_loop(dataloader, model, loss_fn, optimizer):\n",
        "    size = len(dataloader.dataset)\n",
        "    for batch, (X, y) in enumerate(dataloader):\n",
        "        # Compute prediction and loss\n",
        "        pred = model(X)\n",
        "        loss = loss_fn(pred, y)\n",
        "\n",
        "        # Backpropagation\n",
        "        optimizer.zero_grad()\n",
        "        loss.backward()\n",
        "        optimizer.step()\n",
        "\n",
        "        if batch % 100 == 0:\n",
        "            loss, current = loss.item(), batch * len(X)\n",
        "            print(f\"loss: {loss:>7f}  [{current:>5d}/{size:>5d}]\")\n",
        "\n",
        "\n",
        "def test_loop(dataloader, model, loss_fn):\n",
        "    size = len(dataloader.dataset)\n",
        "    num_batches = len(dataloader)\n",
        "    test_loss, correct = 0, 0\n",
        "\n",
        "    with torch.no_grad():\n",
        "        for X, y in dataloader:\n",
        "            pred = model(X)\n",
        "            test_loss += loss_fn(pred, y).item()\n",
        "            correct += (pred.argmax(1) == y).type(torch.float).sum().item()\n",
        "\n",
        "    test_loss /= num_batches\n",
        "    correct /= size\n",
        "    print(f\"Test Error: \\n Accuracy: {(100*correct):>0.1f}%, Avg loss: {test_loss:>8f} \\n\")"
      ]
    },
    {
      "cell_type": "markdown",
      "metadata": {},
      "source": [
        "We initialize the loss function and optimizer, and pass it to ``train_loop`` and ``test_loop``.\n",
        "Feel free to increase the number of epochs to track the model's improving performance.\n",
        "\n"
      ]
    },
    {
      "cell_type": "code",
      "execution_count": 7,
      "metadata": {
        "collapsed": false
      },
      "outputs": [
        {
          "name": "stdout",
          "output_type": "stream",
          "text": [
            "Epoch 1\n",
            "-------------------------------\n",
            "loss: 2.292852  [    0/60000]\n",
            "loss: 2.293123  [ 6400/60000]\n",
            "loss: 2.281247  [12800/60000]\n",
            "loss: 2.274454  [19200/60000]\n",
            "loss: 2.257227  [25600/60000]\n",
            "loss: 2.213939  [32000/60000]\n",
            "loss: 2.223099  [38400/60000]\n",
            "loss: 2.189795  [44800/60000]\n",
            "loss: 2.180140  [51200/60000]\n",
            "loss: 2.148761  [57600/60000]\n",
            "Test Error: \n",
            " Accuracy: 41.6%, Avg loss: 2.148687 \n",
            "\n",
            "Epoch 2\n",
            "-------------------------------\n",
            "loss: 2.155143  [    0/60000]\n",
            "loss: 2.149188  [ 6400/60000]\n",
            "loss: 2.100223  [12800/60000]\n",
            "loss: 2.111531  [19200/60000]\n",
            "loss: 2.064609  [25600/60000]\n",
            "loss: 1.996072  [32000/60000]\n",
            "loss: 2.017557  [38400/60000]\n",
            "loss: 1.948431  [44800/60000]\n",
            "loss: 1.940547  [51200/60000]\n",
            "loss: 1.865841  [57600/60000]\n",
            "Test Error: \n",
            " Accuracy: 56.9%, Avg loss: 1.870857 \n",
            "\n",
            "Epoch 3\n",
            "-------------------------------\n",
            "loss: 1.905774  [    0/60000]\n",
            "loss: 1.870506  [ 6400/60000]\n",
            "loss: 1.762152  [12800/60000]\n",
            "loss: 1.795859  [19200/60000]\n",
            "loss: 1.702140  [25600/60000]\n",
            "loss: 1.646341  [32000/60000]\n",
            "loss: 1.656885  [38400/60000]\n",
            "loss: 1.572150  [44800/60000]\n",
            "loss: 1.586521  [51200/60000]\n",
            "loss: 1.482136  [57600/60000]\n",
            "Test Error: \n",
            " Accuracy: 61.9%, Avg loss: 1.504209 \n",
            "\n",
            "Epoch 4\n",
            "-------------------------------\n",
            "loss: 1.572918  [    0/60000]\n",
            "loss: 1.532329  [ 6400/60000]\n",
            "loss: 1.392160  [12800/60000]\n",
            "loss: 1.462869  [19200/60000]\n",
            "loss: 1.360817  [25600/60000]\n",
            "loss: 1.344616  [32000/60000]\n",
            "loss: 1.356495  [38400/60000]\n",
            "loss: 1.287596  [44800/60000]\n",
            "loss: 1.315718  [51200/60000]\n",
            "loss: 1.223686  [57600/60000]\n",
            "Test Error: \n",
            " Accuracy: 64.0%, Avg loss: 1.246948 \n",
            "\n",
            "Epoch 5\n",
            "-------------------------------\n",
            "loss: 1.322629  [    0/60000]\n",
            "loss: 1.299044  [ 6400/60000]\n",
            "loss: 1.141759  [12800/60000]\n",
            "loss: 1.248270  [19200/60000]\n",
            "loss: 1.133909  [25600/60000]\n",
            "loss: 1.147640  [32000/60000]\n",
            "loss: 1.170022  [38400/60000]\n",
            "loss: 1.109592  [44800/60000]\n",
            "loss: 1.142614  [51200/60000]\n",
            "loss: 1.065934  [57600/60000]\n",
            "Test Error: \n",
            " Accuracy: 65.4%, Avg loss: 1.083330 \n",
            "\n",
            "Epoch 6\n",
            "-------------------------------\n",
            "loss: 1.153638  [    0/60000]\n",
            "loss: 1.149825  [ 6400/60000]\n",
            "loss: 0.974067  [12800/60000]\n",
            "loss: 1.109203  [19200/60000]\n",
            "loss: 0.987768  [25600/60000]\n",
            "loss: 1.013008  [32000/60000]\n",
            "loss: 1.050606  [38400/60000]\n",
            "loss: 0.994537  [44800/60000]\n",
            "loss: 1.027139  [51200/60000]\n",
            "loss: 0.962767  [57600/60000]\n",
            "Test Error: \n",
            " Accuracy: 66.4%, Avg loss: 0.975250 \n",
            "\n",
            "Epoch 7\n",
            "-------------------------------\n",
            "loss: 1.033835  [    0/60000]\n",
            "loss: 1.051945  [ 6400/60000]\n",
            "loss: 0.858164  [12800/60000]\n",
            "loss: 1.015019  [19200/60000]\n",
            "loss: 0.893186  [25600/60000]\n",
            "loss: 0.918389  [32000/60000]\n",
            "loss: 0.971598  [38400/60000]\n",
            "loss: 0.919619  [44800/60000]\n",
            "loss: 0.946892  [51200/60000]\n",
            "loss: 0.892950  [57600/60000]\n",
            "Test Error: \n",
            " Accuracy: 67.6%, Avg loss: 0.901557 \n",
            "\n",
            "Epoch 8\n",
            "-------------------------------\n",
            "loss: 0.945667  [    0/60000]\n",
            "loss: 0.984349  [ 6400/60000]\n",
            "loss: 0.775909  [12800/60000]\n",
            "loss: 0.949229  [19200/60000]\n",
            "loss: 0.830377  [25600/60000]\n",
            "loss: 0.849975  [32000/60000]\n",
            "loss: 0.916366  [38400/60000]\n",
            "loss: 0.869969  [44800/60000]\n",
            "loss: 0.889547  [51200/60000]\n",
            "loss: 0.843425  [57600/60000]\n",
            "Test Error: \n",
            " Accuracy: 68.8%, Avg loss: 0.849091 \n",
            "\n",
            "Epoch 9\n",
            "-------------------------------\n",
            "loss: 0.878339  [    0/60000]\n",
            "loss: 0.934358  [ 6400/60000]\n",
            "loss: 0.715195  [12800/60000]\n",
            "loss: 0.901254  [19200/60000]\n",
            "loss: 0.786216  [25600/60000]\n",
            "loss: 0.799236  [32000/60000]\n",
            "loss: 0.875120  [38400/60000]\n",
            "loss: 0.835804  [44800/60000]\n",
            "loss: 0.847178  [51200/60000]\n",
            "loss: 0.806119  [57600/60000]\n",
            "Test Error: \n",
            " Accuracy: 70.1%, Avg loss: 0.809784 \n",
            "\n",
            "Epoch 10\n",
            "-------------------------------\n",
            "loss: 0.825089  [    0/60000]\n",
            "loss: 0.894554  [ 6400/60000]\n",
            "loss: 0.668369  [12800/60000]\n",
            "loss: 0.864841  [19200/60000]\n",
            "loss: 0.753058  [25600/60000]\n",
            "loss: 0.760602  [32000/60000]\n",
            "loss: 0.842230  [38400/60000]\n",
            "loss: 0.810712  [44800/60000]\n",
            "loss: 0.814610  [51200/60000]\n",
            "loss: 0.776543  [57600/60000]\n",
            "Test Error: \n",
            " Accuracy: 71.6%, Avg loss: 0.778772 \n",
            "\n",
            "Done!\n"
          ]
        }
      ],
      "source": [
        "loss_fn = nn.CrossEntropyLoss()\n",
        "optimizer = torch.optim.SGD(model.parameters(), lr=learning_rate)\n",
        "\n",
        "epochs = 10\n",
        "for t in range(epochs):\n",
        "    print(f\"Epoch {t+1}\\n-------------------------------\")\n",
        "    train_loop(train_dataloader, model, loss_fn, optimizer)\n",
        "    test_loop(test_dataloader, model, loss_fn)\n",
        "print(\"Done!\")"
      ]
    },
    {
      "cell_type": "markdown",
      "metadata": {},
      "source": [
        "Further Reading\n",
        "-----------------------\n",
        "- `Loss Functions <https://pytorch.org/docs/stable/nn.html#loss-functions>`_\n",
        "- `torch.optim <https://pytorch.org/docs/stable/optim.html>`_\n",
        "- `Warmstart Training a Model <https://pytorch.org/tutorials/recipes/recipes/warmstarting_model_using_parameters_from_a_different_model.html>`_\n",
        "\n",
        "\n"
      ]
    }
  ],
  "metadata": {
    "kernelspec": {
      "display_name": "Python 3.8.3 ('teaching')",
      "language": "python",
      "name": "python3"
    },
    "language_info": {
      "codemirror_mode": {
        "name": "ipython",
        "version": 3
      },
      "file_extension": ".py",
      "mimetype": "text/x-python",
      "name": "python",
      "nbconvert_exporter": "python",
      "pygments_lexer": "ipython3",
      "version": "3.8.13"
    },
    "vscode": {
      "interpreter": {
        "hash": "2142a618935ee31125fbb97f06401dd4f60968dd5a549a21d575788564038767"
      }
    }
  },
  "nbformat": 4,
  "nbformat_minor": 0
}
