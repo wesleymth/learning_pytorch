{
 "cells": [
  {
   "cell_type": "code",
   "execution_count": 17,
   "metadata": {},
   "outputs": [
    {
     "name": "stdout",
     "output_type": "stream",
     "text": [
      "a :\n",
      " tensor([[-0.7480, -0.6798, -1.7237]])\n",
      "\n",
      "torch.max(a) :\n",
      " -0.6797550320625305\n",
      "tensor(-0.6798)\n",
      "\n",
      "torch.max(a,1) :\n",
      " torch.return_types.max(\n",
      "values=tensor([-0.6798]),\n",
      "indices=tensor([1]))\n",
      "\n",
      "torch.max(a,1)[1] :\n",
      " tensor([1])\n",
      "\n",
      "torch.max(a,1)[1].item() :\n",
      " 1\n",
      "\n",
      "torch.max(input=a, dim=1, keepdim=True, out=None) :\n",
      " torch.return_types.max(\n",
      "values=tensor([[-0.6798]]),\n",
      "indices=tensor([[1]]))\n",
      "\n"
     ]
    }
   ],
   "source": [
    "import torch\n",
    "\n",
    "a = torch.randn(1, 3)\n",
    "print(f'a :\\n {a}\\n')\n",
    "\n",
    "print(f'torch.max(a) :\\n {torch.max(a)}')\n",
    "print(torch.max(a))\n",
    "print(f'')\n",
    "\n",
    "print(f'torch.max(a,1) :\\n {torch.max(a,1)}\\n')\n",
    "#print(torch.max(a,1))\n",
    "\n",
    "print(f'torch.max(a,1)[1] :\\n {torch.max(a,1)[1]}\\n')\n",
    "\n",
    "print(f'torch.max(a,1)[1].item() :\\n {torch.max(a,1)[1].item()}\\n')\n",
    "\n",
    "\n",
    "print(f'torch.max(input=a, dim=1, keepdim=True, out=None) :\\n {torch.max(input=a, dim=1, keepdim=True, out=None)}\\n')\n"
   ]
  },
  {
   "cell_type": "code",
   "execution_count": 23,
   "metadata": {},
   "outputs": [
    {
     "name": "stdout",
     "output_type": "stream",
     "text": [
      "torch.Size([4, 5])\n",
      "4\n",
      "torch.Size([6])\n",
      "6\n"
     ]
    }
   ],
   "source": [
    "b = torch.ones((4,5))\n",
    "\n",
    "print(b.shape)\n",
    "\n",
    "print(b.shape[0])\n",
    "\n",
    "c = torch.ones(6)\n",
    "\n",
    "print(c.shape)\n",
    "\n",
    "print(c.shape[0])"
   ]
  },
  {
   "cell_type": "code",
   "execution_count": 48,
   "metadata": {},
   "outputs": [
    {
     "name": "stdout",
     "output_type": "stream",
     "text": [
      "tensor([[0.2398, 0.2998, 0.5544],\n",
      "        [0.0964, 0.2251, 0.1686],\n",
      "        [0.9674, 0.8278, 0.0070],\n",
      "        [0.2012, 0.9769, 0.9812],\n",
      "        [0.6568, 0.3225, 0.7767],\n",
      "        [0.0457, 0.4295, 0.3424],\n",
      "        [0.9691, 0.2989, 0.1874],\n",
      "        [0.2707, 0.0981, 0.5520],\n",
      "        [0.8393, 0.7185, 0.6246],\n",
      "        [0.4806, 0.1111, 0.8410]])\n",
      "torch.Size([10])\n",
      "0.20000000298023224\n"
     ]
    }
   ],
   "source": [
    "out = torch.rand((10,3))\n",
    "\n",
    "\n",
    "\n",
    "print(out)\n",
    "\n",
    "outp = torch.tensor([[0.1717, 0.0458, 0.0246], #0\n",
    "        [0.1575, 0.4999, 0.1731], #1\n",
    "        [0.4835, 0.9624, 0.2000], #1\n",
    "        [0.4955, 0.6653, 0.7113], #2\n",
    "        [0.8189, 0.6748, 0.7816], #0\n",
    "        [0.9262, 0.0181, 0.9970], #2\n",
    "        [0.8235, 0.4811, 0.0233], #0\n",
    "        [0.2250, 0.2663, 0.1495], #1\n",
    "        [0.6281, 0.3289, 0.5720], #0\n",
    "        [0.8956, 0.0862, 0.6923]]) #0\n",
    "\n",
    "actual = torch.tensor([1,1,2,0,1,0,2,0,1,0])\n",
    "\n",
    "print(actual.shape)\n",
    "\n",
    "\n",
    "def get_batch_classification_accuracy(output, truth):\n",
    "    prediction = torch.max(output, 1)[1]\n",
    "    size = truth.shape[0]\n",
    "    percentage_correct = float(sum(prediction == truth)/size)\n",
    "    return percentage_correct\n",
    "\n",
    "pct = get_batch_classification_accuracy(outp,actual)\n",
    "\n",
    "print(pct)"
   ]
  }
 ],
 "metadata": {
  "kernelspec": {
   "display_name": "Python 3.8.13 ('teaching')",
   "language": "python",
   "name": "python3"
  },
  "language_info": {
   "codemirror_mode": {
    "name": "ipython",
    "version": 3
   },
   "file_extension": ".py",
   "mimetype": "text/x-python",
   "name": "python",
   "nbconvert_exporter": "python",
   "pygments_lexer": "ipython3",
   "version": "3.8.13"
  },
  "orig_nbformat": 4,
  "vscode": {
   "interpreter": {
    "hash": "2142a618935ee31125fbb97f06401dd4f60968dd5a549a21d575788564038767"
   }
  }
 },
 "nbformat": 4,
 "nbformat_minor": 2
}
